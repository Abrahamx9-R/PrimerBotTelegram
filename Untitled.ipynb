{
 "cells": [
  {
   "cell_type": "markdown",
   "id": "2193e103",
   "metadata": {},
   "source": [
    "![](imagenes/1.png)"
   ]
  },
  {
   "cell_type": "markdown",
   "id": "565b95d5",
   "metadata": {},
   "source": [
    "![](imagenes/2.png)"
   ]
  },
  {
   "cell_type": "markdown",
   "id": "b6abee78",
   "metadata": {},
   "source": [
    "![](imagenes/3.png)"
   ]
  },
  {
   "cell_type": "markdown",
   "id": "f77ae46f",
   "metadata": {},
   "source": [
    "![](imagenes/4.png)"
   ]
  },
  {
   "cell_type": "markdown",
   "id": "64777b45",
   "metadata": {},
   "source": [
    "![](imagenes/5.png)"
   ]
  },
  {
   "cell_type": "markdown",
   "id": "b45f8570",
   "metadata": {},
   "source": [
    "![](imagenes/6.png)"
   ]
  },
  {
   "cell_type": "markdown",
   "id": "bbc74177",
   "metadata": {},
   "source": [
    "![](imagenes/7.png)"
   ]
  },
  {
   "cell_type": "markdown",
   "id": "d5af4784",
   "metadata": {},
   "source": [
    "# crear un nuevo archivo config.py con variable TOKEN\n"
   ]
  },
  {
   "cell_type": "code",
   "execution_count": 4,
   "id": "0ab8020b",
   "metadata": {},
   "outputs": [],
   "source": [
    "TOKEN = \"token\""
   ]
  },
  {
   "cell_type": "markdown",
   "id": "71c98711",
   "metadata": {},
   "source": [
    "# en un nuevo archivo escribimos"
   ]
  },
  {
   "cell_type": "code",
   "execution_count": 10,
   "id": "6f2b995a",
   "metadata": {},
   "outputs": [],
   "source": [
    "# !pip install pytelegrambotapi"
   ]
  },
  {
   "cell_type": "code",
   "execution_count": 9,
   "id": "ff9bf16e",
   "metadata": {},
   "outputs": [],
   "source": [
    "# from config import *\n",
    "import telebot as tl"
   ]
  },
  {
   "cell_type": "code",
   "execution_count": 12,
   "id": "cc7028cc",
   "metadata": {},
   "outputs": [],
   "source": [
    "bot = tl.TeleBot(\"5882179085:AAEAQdAbeQib9QDZg6fmV4gbzpCWaFWWNqw\")"
   ]
  },
  {
   "cell_type": "markdown",
   "id": "d6f120fd",
   "metadata": {},
   "source": [
    "# existen dos tipos de mensajes, comandos que inician con una / y otros, que pueden ser cualquier otro mensaje, imagen video, audio etc"
   ]
  },
  {
   "cell_type": "markdown",
   "id": "e1737733",
   "metadata": {},
   "source": [
    "# Primero haremos comandos"
   ]
  },
  {
   "cell_type": "code",
   "execution_count": 14,
   "id": "f08e1415",
   "metadata": {},
   "outputs": [
    {
     "ename": "SyntaxError",
     "evalue": "invalid syntax (2734941647.py, line 22)",
     "output_type": "error",
     "traceback": [
      "\u001b[0;36m  Cell \u001b[0;32mIn[14], line 22\u001b[0;36m\u001b[0m\n\u001b[0;31m    if __name__ == '__main__':\u001b[0m\n\u001b[0m    ^\u001b[0m\n\u001b[0;31mSyntaxError\u001b[0m\u001b[0;31m:\u001b[0m invalid syntax\n"
     ]
    }
   ],
   "source": [
    "# para ello usaremos primero el comando /start\n",
    "# para esto se usan decoradores, que son funciones que reciben funciones y devuelven funciones\n",
    "\n",
    "# este decorador tienen como argumento commands\n",
    "@bot.message_handler(commands=[\"start\",\"ayuda\",\"help\"]) \n",
    "#definimos los comandos que se crearan\n",
    "def cmd_start(message):\n",
    "    \"\"\"Da la bienvenida al usuario del bot\"\"\"\n",
    "    bot.reply_to(message,\"Hola Mundo\")\n",
    "@bot.message_handler(commands=[\"saluda\"]) \n",
    "#definimos los comandos que se crearan\n",
    "def cmd_start(message):\n",
    "    \"\"\"Da la bienvenida al usuario del bot\"\"\"\n",
    "    bot.reply_to(message,\"Esto es un saludo\")\n",
    "    \n",
    "    \n",
    "    \n",
    "    \n",
    "@bot.message_handler(content_types=[\"text\"])\n",
    "    \n",
    "\n",
    "if __name__ == '__main__':\n",
    "    print(\"Iniciando bot\")\n",
    "    bot.infinity_polling() # bucle que se pone en escucha de forma infinita\n",
    "    print(\"fin\")\n",
    "    \n",
    "\n",
    "\n",
    "\n"
   ]
  },
  {
   "cell_type": "code",
   "execution_count": null,
   "id": "b618e1fa",
   "metadata": {},
   "outputs": [],
   "source": []
  }
 ],
 "metadata": {
  "kernelspec": {
   "display_name": "Python 3 (ipykernel)",
   "language": "python",
   "name": "python3"
  },
  "language_info": {
   "codemirror_mode": {
    "name": "ipython",
    "version": 3
   },
   "file_extension": ".py",
   "mimetype": "text/x-python",
   "name": "python",
   "nbconvert_exporter": "python",
   "pygments_lexer": "ipython3",
   "version": "3.10.6"
  }
 },
 "nbformat": 4,
 "nbformat_minor": 5
}
